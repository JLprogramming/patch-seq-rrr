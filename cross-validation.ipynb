{
 "cells": [
  {
   "cell_type": "markdown",
   "metadata": {},
   "source": [
    "# Perform and pickle cross-validation for all datasets"
   ]
  },
  {
   "cell_type": "code",
   "execution_count": 1,
   "metadata": {},
   "outputs": [],
   "source": [
    "%matplotlib notebook\n",
    "\n",
    "import numpy as np\n",
    "import pylab as plt\n",
    "import seaborn as sns\n",
    "import pickle\n",
    "import matplotlib\n",
    "\n",
    "import sparseRRR"
   ]
  },
  {
   "cell_type": "code",
   "execution_count": 2,
   "metadata": {},
   "outputs": [],
   "source": [
    "def preprocess(data):\n",
    "    X = data['counts'][:,data['mostVariableGenes']] / np.sum(data['counts'], axis=1) * 1e+6\n",
    "    X = np.array(X)\n",
    "    X = np.log2(X + 1)\n",
    "    X = X - np.mean(X, axis=0)\n",
    "    X = X / np.std(X, axis=0)\n",
    "\n",
    "    Y = data['ephys']\n",
    "    Y = Y - np.mean(Y, axis=0)\n",
    "    Y = Y / np.std(Y, axis=0)\n",
    "    \n",
    "    return (X,Y)"
   ]
  },
  {
   "cell_type": "markdown",
   "metadata": {},
   "source": [
    "## The main cross-validation setup"
   ]
  },
  {
   "cell_type": "code",
   "execution_count": 3,
   "metadata": {},
   "outputs": [
    {
     "name": "stdout",
     "output_type": "stream",
     "text": [
      "Shape of X: (1213, 1000) \n",
      "Shape of Y: (1213, 16)\n"
     ]
    }
   ],
   "source": [
    "data = pickle.load(open('data/scala2020.pickle', 'rb'))\n",
    "X,Y = preprocess(data)\n",
    "print('Shape of X:', X.shape, '\\nShape of Y:', Y.shape)"
   ]
  },
  {
   "cell_type": "code",
   "execution_count": 55,
   "metadata": {},
   "outputs": [
    {
     "name": "stdout",
     "output_type": "stream",
     "text": [
      "1.......... Time: 0.0h  3m 41s\n",
      "1.......... Time: 0.0h  0m 28s\n",
      "1.......... Time: 0.0h  0m 38s\n",
      "1.......... Time: 0.0h  0m 53s\n",
      "1.......... Time: 0.0h  1m 17s\n",
      "1.......... Time: 0.0h  1m 45s\n",
      "1.......... Time: 0.0h  3m  3s\n",
      "1.......... Time: 0.0h  3m 47s\n",
      "1.......... Time: 0.0h  5m 36s\n",
      "1.......... Time: 0.0h  4m 31s\n",
      "1.......... Time: 0.0h  4m  3s\n",
      "1.......... Time: 0.0h  4m 13s\n",
      "1.......... Time: 0.0h  4m 57s\n",
      "1.......... Time: 0.0h  3m 24s\n",
      "1.......... Time: 0.0h  5m  7s\n",
      "1.......... Time: 0.0h  2m 39s\n",
      "1.......... Time: 0.0h  1m 34s\n",
      "CPU times: user 2h 3min 18s, sys: 50.2 s, total: 2h 4min 8s\n",
      "Wall time: 51min 35s\n"
     ]
    }
   ],
   "source": [
    "%%time\n",
    "\n",
    "lambdas = np.concatenate((np.arange(.1,1,.1), np.arange(1,11)))\n",
    "alphas = np.array([.25, .5, .75, 1])\n",
    "\n",
    "cvresults = sparseRRR.elastic_rrr_cv(X, Y, rank=2, reps=1, folds=10, alphas=alphas, lambdas=lambdas)\n",
    "\n",
    "alphas = np.array([1])\n",
    "ranks = np.arange(1, Y.shape[1]+1)\n",
    "\n",
    "cvresults_rank = {}\n",
    "for r in ranks:\n",
    "    cvresults_rank[r] = sparseRRR.elastic_rrr_cv(X, Y, rank=r, reps=1, folds=10, alphas=alphas, lambdas=lambdas)\n",
    "    \n",
    "pickle.dump([cvresults, cvresults_rank], open('pickles/cvresults-scala2020.pickle', 'wb'))"
   ]
  },
  {
   "cell_type": "code",
   "execution_count": 6,
   "metadata": {},
   "outputs": [
    {
     "name": "stdout",
     "output_type": "stream",
     "text": [
      "Shape of X: (102, 1000) \n",
      "Shape of Y: (102, 13)\n"
     ]
    }
   ],
   "source": [
    "data = pickle.load(open('data/scala2019.pickle', 'rb'))\n",
    "X,Y = preprocess(data)\n",
    "print('Shape of X:', X.shape, '\\nShape of Y:', Y.shape)"
   ]
  },
  {
   "cell_type": "code",
   "execution_count": 7,
   "metadata": {},
   "outputs": [
    {
     "name": "stdout",
     "output_type": "stream",
     "text": [
      "1.......... 2.......... 3.......... 4.......... 5.......... 6.......... 7.......... 8.......... 9.......... 10.......... Time: 0.0h 10m  6s\n",
      "1.......... 2.......... 3.......... 4.......... 5.......... 6.......... 7.......... 8.......... 9.......... 10.......... Time: 0.0h  1m 42s\n",
      "1.......... 2.......... 3.......... 4.......... 5.......... 6.......... 7.......... 8.......... 9.......... 10.......... Time: 0.0h  2m 21s\n",
      "1.......... 2.......... 3.......... 4.......... 5.......... 6.......... 7.......... 8.......... 9.......... 10.......... Time: 0.0h  6m 51s\n",
      "1.......... 2.......... 3.......... 4.......... 5.......... 6.......... 7.......... 8.......... 9.......... 10.......... Time: 0.0h  9m 26s\n",
      "1.......... 2.......... 3.......... 4.......... 5.......... 6.......... 7.......... 8.......... 9.......... 10.......... Time: 0.0h 12m 18s\n",
      "1.......... 2.......... 3.......... 4.......... 5.......... 6.......... 7.......... 8.......... 9.......... 10.......... Time: 0.0h 11m 56s\n",
      "1.......... 2.......... 3.......... 4.......... 5.......... 6.......... 7.......... 8.......... 9.......... 10.......... Time: 0.0h 25m  5s\n",
      "1.......... 2.......... 3.......... 4.......... 5.......... 6.......... 7.......... 8.......... 9.......... 10.......... Time: 0.0h 26m 28s\n",
      "1.......... 2.......... 3.......... 4.......... 5.......... 6.......... 7.......... 8.......... 9.......... 10.......... Time: 0.0h 11m 28s\n",
      "1.......... 2.......... 3.......... 4.......... 5.......... 6.......... 7.......... 8.......... 9.......... 10.......... Time: 0.0h 24m 12s\n",
      "1.......... 2.......... 3.......... 4.......... 5.......... 6.......... 7.......... 8.......... 9.......... 10.......... Time: 0.0h  9m  7s\n",
      "1.......... 2.......... 3.......... 4.......... 5.......... 6.......... 7.......... 8.......... 9.......... 10.......... Time: 0.0h  8m  1s\n",
      "1.......... 2.......... 3.......... 4.......... 5.......... 6.......... 7.......... 8.......... 9.......... 10.......... Time: 0.0h  3m 41s\n",
      "CPU times: user 6h 51min 48s, sys: 9h 59min 29s, total: 16h 51min 18s\n",
      "Wall time: 2h 42min 41s\n"
     ]
    }
   ],
   "source": [
    "%%time\n",
    "\n",
    "lambdas = np.concatenate([np.arange(.1,3,.1), np.arange(3,11)])\n",
    "alphas = [.25, .5, .75, 1]\n",
    "\n",
    "cvresults = sparseRRR.elastic_rrr_cv(X, Y, rank=2, reps=10, folds=10, alphas=alphas, lambdas=lambdas)\n",
    "\n",
    "alphas = np.array([.5])\n",
    "ranks = np.arange(1, Y.shape[1]+1)\n",
    "\n",
    "cvresults_rank = {}\n",
    "for r in ranks:\n",
    "    cvresults_rank[r] = sparseRRR.elastic_rrr_cv(X, Y, lambdas=lambdas, alphas=alphas, reps=10, rank=r, folds=10)\n",
    "    \n",
    "pickle.dump([cvresults, cvresults_rank], open('pickles/cvresults-scala2019.pickle', 'wb'))"
   ]
  },
  {
   "cell_type": "code",
   "execution_count": 8,
   "metadata": {},
   "outputs": [
    {
     "name": "stdout",
     "output_type": "stream",
     "text": [
      "Shape of X: (44, 3000) \n",
      "Shape of Y: (44, 11)\n"
     ]
    }
   ],
   "source": [
    "data = pickle.load(open('data/cadwell2016.pickle', 'rb'))\n",
    "X,Y = preprocess(data)\n",
    "print('Shape of X:', X.shape, '\\nShape of Y:', Y.shape)"
   ]
  },
  {
   "cell_type": "code",
   "execution_count": 9,
   "metadata": {},
   "outputs": [
    {
     "name": "stdout",
     "output_type": "stream",
     "text": [
      "1........... 2........... 3........... 4........... 5........... 6........... 7........... 8........... 9........... 10........... Time: 0.0h 18m 32s\n",
      "1........... 2........... 3........... 4........... 5........... 6........... 7........... 8........... 9........... 10........... Time: 0.0h  1m 36s\n",
      "1........... 2........... 3........... 4........... 5........... 6........... 7........... 8........... 9........... 10........... Time: 0.0h  4m 39s\n",
      "1........... 2........... 3........... 4........... 5........... 6........... 7........... 8........... 9........... 10........... Time: 0.0h  9m  9s\n",
      "1........... 2........... 3........... 4........... 5........... 6........... 7........... 8........... 9........... 10........... Time: 0.0h 18m 40s\n",
      "1........... 2........... 3........... 4........... 5........... 6........... 7........... 8........... 9........... 10........... Time: 0.0h 17m 36s\n",
      "1........... 2........... 3........... 4........... 5........... 6........... 7........... 8........... 9........... 10........... Time: 0.0h 27m 50s\n",
      "1........... 2........... 3........... 4........... 5........... 6........... 7........... 8........... 9........... 10........... Time: 0.0h 29m 34s\n",
      "1........... 2........... 3........... 4........... 5........... 6........... 7........... 8........... 9........... 10........... Time: 0.0h 20m 25s\n",
      "1........... 2........... 3........... 4........... 5........... 6........... 7........... 8........... 9........... 10........... Time: 0.0h 22m 30s\n",
      "1........... 2........... 3........... 4........... 5........... 6........... 7........... 8........... 9........... 10........... Time: 0.0h 13m 37s\n",
      "1........... 2........... 3........... 4........... 5........... 6........... 7........... 8........... 9........... 10........... Time: 0.0h  5m 30s\n",
      "CPU times: user 8h 28min 35s, sys: 12h 50min 40s, total: 21h 19min 16s\n",
      "Wall time: 3h 9min 38s\n"
     ]
    }
   ],
   "source": [
    "%%time\n",
    "\n",
    "lambdas = np.concatenate([np.arange(.1,3,.1), np.arange(3,11)])\n",
    "alphas = [.25, .5, .75, 1]\n",
    "\n",
    "cvresults = sparseRRR.elastic_rrr_cv(X, Y, rank=2, reps=10, folds=11, alphas=alphas, lambdas=lambdas)\n",
    "\n",
    "alphas = np.array([.5])\n",
    "ranks = np.arange(1, Y.shape[1]+1)\n",
    "\n",
    "cvresults_rank = {}\n",
    "for r in ranks:\n",
    "    cvresults_rank[r] = sparseRRR.elastic_rrr_cv(X, Y, lambdas=lambdas, alphas=alphas, reps=10, rank=r, folds=11)\n",
    "    \n",
    "pickle.dump([cvresults, cvresults_rank], open('pickles/cvresults-cadwell2016.pickle', 'wb'))"
   ]
  },
  {
   "cell_type": "code",
   "execution_count": 13,
   "metadata": {},
   "outputs": [
    {
     "name": "stdout",
     "output_type": "stream",
     "text": [
      "Shape of X: (80, 1313) \n",
      "Shape of Y: (80, 80)\n"
     ]
    }
   ],
   "source": [
    "data = pickle.load(open('data/fuzik2016.pickle', 'rb'))\n",
    "X,Y = preprocess(data)\n",
    "print('Shape of X:', X.shape, '\\nShape of Y:', Y.shape)"
   ]
  },
  {
   "cell_type": "code",
   "execution_count": 14,
   "metadata": {},
   "outputs": [
    {
     "name": "stdout",
     "output_type": "stream",
     "text": [
      "1.......... 2.......... 3.......... 4.......... 5.......... 6.......... 7.......... 8.......... 9.......... 10.......... Time: 0.0h  2m 22s\n",
      "1.......... 2.......... 3.......... 4.......... 5.......... 6.......... 7.......... 8.......... 9.......... 10.......... Time: 0.0h  4m 40s\n"
     ]
    }
   ],
   "source": [
    "lambdas = np.arange(.1,6,.25)\n",
    "alphas = np.array([.5])\n",
    "ranks = np.array([1,2])\n",
    "\n",
    "cvresults = {}\n",
    "for r in ranks:\n",
    "    cvresults[r] = sparseRRR.elastic_rrr_cv(X, Y, lambdas=lambdas, alphas=alphas, reps=10, rank=r, folds=10)\n",
    "    \n",
    "pickle.dump(cvresults, open('pickles/cvresults-fuzik2016.pickle', 'wb'))"
   ]
  },
  {
   "cell_type": "markdown",
   "metadata": {},
   "source": [
    "## Preprocessing variants"
   ]
  },
  {
   "cell_type": "code",
   "execution_count": 3,
   "metadata": {},
   "outputs": [],
   "source": [
    "import rnaseqTools\n",
    "\n",
    "def cv_preprocessing_variants(data, filename, lambdas=[1,2,3], alpha=.5, reps=1, folds=10, n_genes=1000):\n",
    "    X,Y = preprocess(data)\n",
    "\n",
    "    alphas = np.array([alpha])\n",
    "    cv1 = sparseRRR.elastic_rrr_cv(X, Y, rank=2, reps=reps, \n",
    "                                   folds=folds, alphas=alphas, lambdas=lambdas)\n",
    "\n",
    "    X = data['counts'][:,data['mostVariableGenes']] / np.sum(data['counts'], axis=1) * 1e+6\n",
    "    X = np.array(X)\n",
    "    X = np.log2(X + 1)\n",
    "    X = X - np.mean(X, axis=0)\n",
    "    cv2 = sparseRRR.elastic_rrr_cv(X, Y, rank=2, reps=reps,\n",
    "                                   folds=folds, alphas=alphas, lambdas=lambdas)\n",
    "\n",
    "    X = data['counts'] / np.sum(data['counts'], axis=1) * 1e+6\n",
    "    X = np.array(X)\n",
    "    X = np.log2(X + 1)\n",
    "    ind = np.sum(X, axis=0) > 0\n",
    "    X = X - np.mean(X, axis=0)\n",
    "    cv4 = sparseRRR.elastic_rrr_cv(X, Y, rank=2, reps=reps,\n",
    "                                   folds=folds, alphas=alphas, lambdas=lambdas)\n",
    "\n",
    "    X = X[:, ind]\n",
    "    X = X / np.std(X, axis=0)\n",
    "    cv3 = sparseRRR.elastic_rrr_cv(X, Y, rank=2, reps=reps,\n",
    "                                   folds=folds, alphas=alphas, lambdas=lambdas)\n",
    "    \n",
    "    \n",
    "    def cv_preprocess(Xtrain, Xtest, n_genes=n_genes):\n",
    "        mostVariableGenes = rnaseqTools.geneSelection(Xtrain, n=n_genes, threshold=32, plot=False, verbose=0)\n",
    "\n",
    "        X = Xtrain[:,mostVariableGenes] / np.sum(Xtrain, axis=1, keepdims=True) * 1e+6\n",
    "        X = np.array(X)\n",
    "        X = np.log2(X + 1)\n",
    "        ind = np.sum(X, axis=0) > 0\n",
    "        X = X[:, ind]\n",
    "        mu = np.mean(X, axis=0)\n",
    "        std = np.std(X, axis=0)\n",
    "        X = (X - mu) / std\n",
    "    \n",
    "        Xt = Xtest[:,mostVariableGenes] / np.sum(Xtest, axis=1, keepdims=True) * 1e+6\n",
    "        Xt = np.array(Xt)\n",
    "        Xt = np.log2(Xt + 1)\n",
    "        Xt = Xt[:, ind]\n",
    "        Xt = (Xt - mu) / std\n",
    "    \n",
    "        return(X, Xt) \n",
    "    \n",
    "    X = np.array(data['counts'].todense())\n",
    "    cv5 = sparseRRR.elastic_rrr_cv(X, Y, rank=2, reps=reps,     \n",
    "                                   folds=folds, alphas=alphas, lambdas=lambdas,\n",
    "                                   preprocess = cv_preprocess)\n",
    "\n",
    "    pickle.dump([cv1, cv2, cv3, cv4, cv5], open(filename, 'wb'))"
   ]
  },
  {
   "cell_type": "code",
   "execution_count": 4,
   "metadata": {},
   "outputs": [
    {
     "name": "stdout",
     "output_type": "stream",
     "text": [
      "1.......... Time: 0.0h  0m 39s\n",
      "1.......... Time: 0.0h  3m 32s\n",
      "1.......... Time: 0.0h 35m  7s\n",
      "1.......... Time: 0.0h 18m 19s\n",
      "1.......... Time: 0.0h  1m 28s\n"
     ]
    }
   ],
   "source": [
    "data = pickle.load(open('data/scala2020.pickle', 'rb'))\n",
    "lambdas = np.concatenate((np.arange(.1,1,.1), np.arange(1,11)))\n",
    "cv_preprocessing_variants(data, 'pickles/cvresults-scala2020-variants.pickle', \n",
    "                          lambdas=lambdas, alpha=1, reps=1, folds=10)"
   ]
  },
  {
   "cell_type": "code",
   "execution_count": 5,
   "metadata": {},
   "outputs": [
    {
     "name": "stdout",
     "output_type": "stream",
     "text": [
      "1.......... 2.......... 3.......... 4.......... 5.......... 6.......... 7.......... 8.......... 9.......... 10.......... Time: 0.0h  5m 23s\n",
      "1.......... 2.......... 3.......... 4.......... 5.......... 6.......... 7.......... 8.......... 9.......... 10.......... Time: 0.0h 18m 25s\n",
      "1.......... 2.......... 3.......... 4.......... 5.......... 6.......... 7.......... 8.......... 9.......... 10.......... Time: 0.0h 59m 55s\n",
      "1.......... 2.......... 3.......... 4.......... 5.......... 6.......... 7.......... 8.......... 9.......... 10.......... Time: 0.0h 40m 58s\n",
      "1.......... 2.......... 3.......... 4.......... 5.......... 6.......... 7.......... 8.......... 9.......... 10.......... Time: 0.0h  2m 28s\n"
     ]
    }
   ],
   "source": [
    "data = pickle.load(open('data/scala2019.pickle', 'rb'))\n",
    "lambdas = np.concatenate([np.arange(.1,3,.1), np.arange(3,11)])\n",
    "cv_preprocessing_variants(data, 'pickles/cvresults-scala2019-variants.pickle', \n",
    "                          lambdas=lambdas, alpha=.5, reps=10, folds=10)"
   ]
  },
  {
   "cell_type": "code",
   "execution_count": 4,
   "metadata": {},
   "outputs": [
    {
     "name": "stdout",
     "output_type": "stream",
     "text": [
      "1........... 2........... 3........... 4........... 5........... 6........... 7........... 8........... 9........... 10........... Time: 0.0h 10m 34s\n",
      "1........... 2........... 3........... 4........... 5........... 6........... 7........... 8........... 9........... 10........... Time: 0.0h 20m 49s\n",
      "1........... 2........... 3........... 4........... 5........... 6........... 7........... 8........... 9........... 10........... Time: 0.0h 45m 17s\n",
      "1........... 2........... 3........... 4........... 5........... 6........... 7........... 8........... 9........... 10........... Time: 0.0h 34m 56s\n",
      "1........... 2........... 3........... 4........... 5........... 6........... 7........... 8........... 9........... 10........... Time: 0.0h  7m  4s\n"
     ]
    }
   ],
   "source": [
    "data = pickle.load(open('data/cadwell2016.pickle', 'rb'))\n",
    "lambdas = np.concatenate([np.arange(.1,3,.1), np.arange(3,11)])\n",
    "cv_preprocessing_variants(data, 'pickles/cvresults-cadwell2016-variants.pickle', \n",
    "                          lambdas=lambdas, alpha=.5, reps=10, folds=11, n_genes=3000)"
   ]
  },
  {
   "cell_type": "markdown",
   "metadata": {},
   "source": [
    "## Witten and Suo comparisons"
   ]
  },
  {
   "cell_type": "code",
   "execution_count": 3,
   "metadata": {},
   "outputs": [],
   "source": [
    "import spls_scca"
   ]
  },
  {
   "cell_type": "code",
   "execution_count": 16,
   "metadata": {},
   "outputs": [
    {
     "name": "stdout",
     "output_type": "stream",
     "text": [
      ". done\n",
      "CPU times: user 3.98 s, sys: 3.86 s, total: 7.84 s\n",
      "Wall time: 1.02 s\n",
      ". done\n",
      "CPU times: user 1h 10min 4s, sys: 48min 55s, total: 1h 58min 59s\n",
      "Wall time: 15min 22s\n"
     ]
    }
   ],
   "source": [
    "data = pickle.load(open('data/scala2020.pickle', 'rb'))\n",
    "X,Y = preprocess(data)\n",
    "\n",
    "lx_scan = np.arange(500, 2000, 100)\n",
    "%time corr_witten, nonz_witten = spls_scca.witten_cv(X, Y, lx_scan, ncomps=2, reps=1)\n",
    "\n",
    "lx_scan = np.arange(1,15)\n",
    "%time corr_suo, nonz_suo = spls_scca.suo_cv(X, Y, lx_scan, reps=1)\n",
    "\n",
    "pickle.dump([corr_witten, nonz_witten, corr_suo, nonz_suo], \n",
    "            open('pickles/cvresults-scala2020-wittensuo.pickle', 'wb'))"
   ]
  },
  {
   "cell_type": "code",
   "execution_count": 4,
   "metadata": {},
   "outputs": [
    {
     "name": "stdout",
     "output_type": "stream",
     "text": [
      ".......... done\n",
      "CPU times: user 34.7 s, sys: 55.8 s, total: 1min 30s\n",
      "Wall time: 11.9 s\n",
      ".......... done\n",
      "CPU times: user 1h 58min 31s, sys: 2h 46min 37s, total: 4h 45min 8s\n",
      "Wall time: 36min 7s\n"
     ]
    }
   ],
   "source": [
    "data = pickle.load(open('data/scala2019.pickle', 'rb'))\n",
    "X,Y = preprocess(data)\n",
    "\n",
    "lx_scan = np.arange(20, 75, 5)\n",
    "%time corr_witten, nonz_witten = spls_scca.witten_cv(X, Y, lx_scan, ncomps=2, reps=10)\n",
    "\n",
    "lx_scan = np.concatenate((np.arange(.1,1,.1), np.arange(1, 5, .5)))\n",
    "%time corr_suo, nonz_suo = spls_scca.suo_cv(X, Y, lx_scan, reps=10)\n",
    "\n",
    "pickle.dump([corr_witten, nonz_witten, corr_suo, nonz_suo], \n",
    "            open('pickles/cvresults-scala2019-wittensuo.pickle', 'wb'))"
   ]
  },
  {
   "cell_type": "code",
   "execution_count": 5,
   "metadata": {},
   "outputs": [
    {
     "name": "stdout",
     "output_type": "stream",
     "text": [
      ".......... done\n",
      "CPU times: user 19.6 s, sys: 28.5 s, total: 48.1 s\n",
      "Wall time: 6.14 s\n",
      ".......... done\n",
      "CPU times: user 2h 8min 35s, sys: 2h 58min 2s, total: 5h 6min 37s\n",
      "Wall time: 38min 45s\n"
     ]
    }
   ],
   "source": [
    "data = pickle.load(open('data/cadwell2016.pickle', 'rb'))\n",
    "X,Y = preprocess(data)\n",
    "\n",
    "lx_scan = np.arange(20, 75, 5)\n",
    "%time corr_witten, nonz_witten = spls_scca.witten_cv(X, Y, lx_scan, ncomps=2, reps=10)\n",
    "\n",
    "lx_scan = np.concatenate((np.arange(.1,1,.1), np.arange(1, 5, .5)))\n",
    "%time corr_suo, nonz_suo = spls_scca.suo_cv(X, Y, lx_scan, reps=10)\n",
    "\n",
    "pickle.dump([corr_witten, nonz_witten, corr_suo, nonz_suo], \n",
    "            open('pickles/cvresults-cadwell2016-wittensuo.pickle', 'wb'))"
   ]
  }
 ],
 "metadata": {
  "kernelspec": {
   "display_name": "Python 3",
   "language": "python",
   "name": "python3"
  },
  "language_info": {
   "codemirror_mode": {
    "name": "ipython",
    "version": 3
   },
   "file_extension": ".py",
   "mimetype": "text/x-python",
   "name": "python",
   "nbconvert_exporter": "python",
   "pygments_lexer": "ipython3",
   "version": "3.7.4"
  }
 },
 "nbformat": 4,
 "nbformat_minor": 2
}
