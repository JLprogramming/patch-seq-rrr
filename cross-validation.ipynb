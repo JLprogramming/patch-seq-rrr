{
 "cells": [
  {
   "cell_type": "markdown",
   "metadata": {},
   "source": [
    "# Perform and pickle cross-validation for all datasets"
   ]
  },
  {
   "cell_type": "code",
   "execution_count": 1,
   "metadata": {},
   "outputs": [],
   "source": [
    "%matplotlib notebook\n",
    "\n",
    "import numpy as np\n",
    "import pylab as plt\n",
    "import seaborn as sns\n",
    "import pickle\n",
    "import matplotlib\n",
    "\n",
    "import sparseRRR"
   ]
  },
  {
   "cell_type": "code",
   "execution_count": 2,
   "metadata": {},
   "outputs": [],
   "source": [
    "def preprocess(data):\n",
    "    X = data['counts'][:,data['mostVariableGenes']] / np.sum(data['counts'], axis=1) * 1e+6\n",
    "    X = np.array(X)\n",
    "    X = np.log2(X + 1)\n",
    "    X = X - np.mean(X, axis=0)\n",
    "    X = X / np.std(X, axis=0)\n",
    "\n",
    "    Y = data['ephys']\n",
    "    Y = Y - np.mean(Y, axis=0)\n",
    "    Y = Y / np.std(Y, axis=0)\n",
    "    \n",
    "    return (X,Y)"
   ]
  },
  {
   "cell_type": "markdown",
   "metadata": {},
   "source": [
    "## The main cross-validation setup"
   ]
  },
  {
   "cell_type": "code",
   "execution_count": 5,
   "metadata": {},
   "outputs": [
    {
     "name": "stdout",
     "output_type": "stream",
     "text": [
      "Shape of X: (1213, 1000) \n",
      "Shape of Y: (1213, 16)\n"
     ]
    }
   ],
   "source": [
    "data = pickle.load(open('data/scala2020.pickle', 'rb'))\n",
    "X,Y = preprocess(data)\n",
    "print('Shape of X:', X.shape, '\\nShape of Y:', Y.shape)"
   ]
  },
  {
   "cell_type": "code",
   "execution_count": 55,
   "metadata": {},
   "outputs": [
    {
     "name": "stdout",
     "output_type": "stream",
     "text": [
      "1.......... Time: 0.0h  3m 41s\n",
      "1.......... Time: 0.0h  0m 28s\n",
      "1.......... Time: 0.0h  0m 38s\n",
      "1.......... Time: 0.0h  0m 53s\n",
      "1.......... Time: 0.0h  1m 17s\n",
      "1.......... Time: 0.0h  1m 45s\n",
      "1.......... Time: 0.0h  3m  3s\n",
      "1.......... Time: 0.0h  3m 47s\n",
      "1.......... Time: 0.0h  5m 36s\n",
      "1.......... Time: 0.0h  4m 31s\n",
      "1.......... Time: 0.0h  4m  3s\n",
      "1.......... Time: 0.0h  4m 13s\n",
      "1.......... Time: 0.0h  4m 57s\n",
      "1.......... Time: 0.0h  3m 24s\n",
      "1.......... Time: 0.0h  5m  7s\n",
      "1.......... Time: 0.0h  2m 39s\n",
      "1.......... Time: 0.0h  1m 34s\n",
      "CPU times: user 2h 3min 18s, sys: 50.2 s, total: 2h 4min 8s\n",
      "Wall time: 51min 35s\n"
     ]
    }
   ],
   "source": [
    "%%time\n",
    "\n",
    "lambdas = np.concatenate((np.arange(.1,1,.1), np.arange(1,11)))\n",
    "alphas = np.array([.25, .5, .75, 1])\n",
    "\n",
    "cvresults = sparseRRR.elastic_rrr_cv(X, Y, rank=2, reps=1, folds=10, alphas=alphas, lambdas=lambdas)\n",
    "\n",
    "alphas = np.array([1])\n",
    "ranks = np.arange(1, Y.shape[1]+1)\n",
    "\n",
    "cvresults_rank = {}\n",
    "for r in ranks:\n",
    "    cvresults_rank[r] = sparseRRR.elastic_rrr_cv(X, Y, rank=r, reps=1, folds=10, alphas=alphas, lambdas=lambdas)\n",
    "    \n",
    "pickle.dump([cvresults, cvresults_rank], open('pickles/cvresults-scala2020.pickle', 'wb'))"
   ]
  },
  {
   "cell_type": "code",
   "execution_count": 6,
   "metadata": {},
   "outputs": [
    {
     "name": "stdout",
     "output_type": "stream",
     "text": [
      "Shape of X: (102, 1000) \n",
      "Shape of Y: (102, 13)\n"
     ]
    }
   ],
   "source": [
    "data = pickle.load(open('data/scala2019.pickle', 'rb'))\n",
    "X,Y = preprocess(data)\n",
    "print('Shape of X:', X.shape, '\\nShape of Y:', Y.shape)"
   ]
  },
  {
   "cell_type": "code",
   "execution_count": 7,
   "metadata": {},
   "outputs": [
    {
     "name": "stdout",
     "output_type": "stream",
     "text": [
      "1.......... 2.......... 3.......... 4.......... 5.......... 6.......... 7.......... 8.......... 9.......... 10.......... Time: 0.0h 10m  6s\n",
      "1.......... 2.......... 3.......... 4.......... 5.......... 6.......... 7.......... 8.......... 9.......... 10.......... Time: 0.0h  1m 42s\n",
      "1.......... 2.......... 3.......... 4.......... 5.......... 6.......... 7.......... 8.......... 9.......... 10.......... Time: 0.0h  2m 21s\n",
      "1.......... 2.......... 3.......... 4.......... 5.......... 6.......... 7.......... 8.......... 9.......... 10.......... Time: 0.0h  6m 51s\n",
      "1.......... 2.......... 3.......... 4.......... 5.......... 6.......... 7.......... 8.......... 9.......... 10.......... Time: 0.0h  9m 26s\n",
      "1.......... 2.......... 3.......... 4.......... 5.......... 6.......... 7.......... 8.......... 9.......... 10.......... Time: 0.0h 12m 18s\n",
      "1.......... 2.......... 3.......... 4.......... 5.......... 6.......... 7.......... 8.......... 9.......... 10.......... Time: 0.0h 11m 56s\n",
      "1.......... 2.......... 3.......... 4.......... 5.......... 6.......... 7.......... 8.......... 9.......... 10.......... Time: 0.0h 25m  5s\n",
      "1.......... 2.......... 3.......... 4.......... 5.......... 6.......... 7.......... 8.......... 9.......... 10.......... Time: 0.0h 26m 28s\n",
      "1.......... 2.......... 3.......... 4.......... 5.......... 6.......... 7.......... 8.......... 9.......... 10.......... Time: 0.0h 11m 28s\n",
      "1.......... 2.......... 3.......... 4.......... 5.......... 6.......... 7.......... 8.......... 9.......... 10.......... Time: 0.0h 24m 12s\n",
      "1.......... 2.......... 3.......... 4.......... 5.......... 6.......... 7.......... 8.......... 9.......... 10.......... Time: 0.0h  9m  7s\n",
      "1.......... 2.......... 3.......... 4.......... 5.......... 6.......... 7.......... 8.......... 9.......... 10.......... Time: 0.0h  8m  1s\n",
      "1.......... 2.......... 3.......... 4.......... 5.......... 6.......... 7.......... 8.......... 9.......... 10.......... Time: 0.0h  3m 41s\n",
      "CPU times: user 6h 51min 48s, sys: 9h 59min 29s, total: 16h 51min 18s\n",
      "Wall time: 2h 42min 41s\n"
     ]
    }
   ],
   "source": [
    "%%time\n",
    "\n",
    "lambdas = np.concatenate([np.arange(.1,3,.1), np.arange(3,11)])\n",
    "alphas = [.25, .5, .75, 1]\n",
    "\n",
    "cvresults = sparseRRR.elastic_rrr_cv(X, Y, rank=2, reps=10, folds=10, alphas=alphas, lambdas=lambdas)\n",
    "\n",
    "alphas = np.array([.5])\n",
    "ranks = np.arange(1, Y.shape[1]+1)\n",
    "\n",
    "cvresults_rank = {}\n",
    "for r in ranks:\n",
    "    cvresults_rank[r] = sparseRRR.elastic_rrr_cv(X, Y, lambdas=lambdas, alphas=alphas, reps=10, rank=r, folds=10)\n",
    "    \n",
    "pickle.dump([cvresults, cvresults_rank], open('pickles/cvresults-scala2019.pickle', 'wb'))"
   ]
  },
  {
   "cell_type": "code",
   "execution_count": 8,
   "metadata": {},
   "outputs": [
    {
     "name": "stdout",
     "output_type": "stream",
     "text": [
      "Shape of X: (44, 3000) \n",
      "Shape of Y: (44, 11)\n"
     ]
    }
   ],
   "source": [
    "data = pickle.load(open('data/cadwell2016.pickle', 'rb'))\n",
    "X,Y = preprocess(data)\n",
    "print('Shape of X:', X.shape, '\\nShape of Y:', Y.shape)"
   ]
  },
  {
   "cell_type": "code",
   "execution_count": 9,
   "metadata": {},
   "outputs": [
    {
     "name": "stdout",
     "output_type": "stream",
     "text": [
      "1........... 2........... 3........... 4........... 5........... 6........... 7........... 8........... 9........... 10........... Time: 0.0h 18m 32s\n",
      "1........... 2........... 3........... 4........... 5........... 6........... 7........... 8........... 9........... 10........... Time: 0.0h  1m 36s\n",
      "1........... 2........... 3........... 4........... 5........... 6........... 7........... 8........... 9........... 10........... Time: 0.0h  4m 39s\n",
      "1........... 2........... 3........... 4........... 5........... 6........... 7........... 8........... 9........... 10........... Time: 0.0h  9m  9s\n",
      "1........... 2........... 3........... 4........... 5........... 6........... 7........... 8........... 9........... 10........... Time: 0.0h 18m 40s\n",
      "1........... 2........... 3........... 4........... 5........... 6........... 7........... 8........... 9........... 10........... Time: 0.0h 17m 36s\n",
      "1........... 2........... 3........... 4........... 5........... 6........... 7........... 8........... 9........... 10........... Time: 0.0h 27m 50s\n",
      "1........... 2........... 3........... 4........... 5........... 6........... 7........... 8........... 9........... 10........... Time: 0.0h 29m 34s\n",
      "1........... 2........... 3........... 4........... 5........... 6........... 7........... 8........... 9........... 10........... Time: 0.0h 20m 25s\n",
      "1........... 2........... 3........... 4........... 5........... 6........... 7........... 8........... 9........... 10........... Time: 0.0h 22m 30s\n",
      "1........... 2........... 3........... 4........... 5........... 6........... 7........... 8........... 9........... 10........... Time: 0.0h 13m 37s\n",
      "1........... 2........... 3........... 4........... 5........... 6........... 7........... 8........... 9........... 10........... Time: 0.0h  5m 30s\n",
      "CPU times: user 8h 28min 35s, sys: 12h 50min 40s, total: 21h 19min 16s\n",
      "Wall time: 3h 9min 38s\n"
     ]
    }
   ],
   "source": [
    "%%time\n",
    "\n",
    "lambdas = np.concatenate([np.arange(.1,3,.1), np.arange(3,11)])\n",
    "alphas = [.25, .5, .75, 1]\n",
    "\n",
    "cvresults = sparseRRR.elastic_rrr_cv(X, Y, rank=2, reps=10, folds=11, alphas=alphas, lambdas=lambdas)\n",
    "\n",
    "alphas = np.array([.5])\n",
    "ranks = np.arange(1, Y.shape[1]+1)\n",
    "\n",
    "cvresults_rank = {}\n",
    "for r in ranks:\n",
    "    cvresults_rank[r] = sparseRRR.elastic_rrr_cv(X, Y, lambdas=lambdas, alphas=alphas, reps=10, rank=r, folds=11)\n",
    "    \n",
    "pickle.dump([cvresults, cvresults_rank], open('pickles/cvresults-cadwell2016.pickle', 'wb'))"
   ]
  },
  {
   "cell_type": "code",
   "execution_count": 13,
   "metadata": {},
   "outputs": [
    {
     "name": "stdout",
     "output_type": "stream",
     "text": [
      "Shape of X: (80, 1313) \n",
      "Shape of Y: (80, 80)\n"
     ]
    }
   ],
   "source": [
    "data = pickle.load(open('data/fuzik2016.pickle', 'rb'))\n",
    "X,Y = preprocess(data)\n",
    "print('Shape of X:', X.shape, '\\nShape of Y:', Y.shape)"
   ]
  },
  {
   "cell_type": "code",
   "execution_count": 14,
   "metadata": {},
   "outputs": [
    {
     "name": "stdout",
     "output_type": "stream",
     "text": [
      "1.......... 2.......... 3.......... 4.......... 5.......... 6.......... 7.......... 8.......... 9.......... 10.......... Time: 0.0h  2m 22s\n",
      "1.......... 2.......... 3.......... 4.......... 5.......... 6.......... 7.......... 8.......... 9.......... 10.......... Time: 0.0h  4m 40s\n"
     ]
    }
   ],
   "source": [
    "lambdas = np.arange(.1,6,.25)\n",
    "alphas = np.array([.5])\n",
    "ranks = np.array([1,2])\n",
    "\n",
    "cvresults = {}\n",
    "for r in ranks:\n",
    "    cvresults[r] = sparseRRR.elastic_rrr_cv(X, Y, lambdas=lambdas, alphas=alphas, reps=10, rank=r, folds=10)\n",
    "    \n",
    "pickle.dump(cvresults, open('pickles/cvresults-fuzik2016.pickle', 'wb'))"
   ]
  },
  {
   "cell_type": "code",
   "execution_count": 4,
   "metadata": {},
   "outputs": [
    {
     "name": "stdout",
     "output_type": "stream",
     "text": [
      "Shape of X: (3395, 1252) \n",
      "Shape of Y: (3395, 55)\n"
     ]
    }
   ],
   "source": [
    "data = pickle.load(open('data/gouwens2020.pickle', 'rb'))\n",
    "# Already preprocessed\n",
    "X=data['counts'].toarray().astype('float64')\n",
    "Y=data['ephys']\n",
    "print('Shape of X:', X.shape, '\\nShape of Y:', Y.shape)"
   ]
  },
  {
   "cell_type": "code",
   "execution_count": 12,
   "metadata": {},
   "outputs": [
    {
     "name": "stdout",
     "output_type": "stream",
     "text": [
      "1.......... Time: 0.0h 42m 32s\n",
      "1.......... Time: 0.0h  2m 15s\n",
      "1.......... Time: 0.0h  5m 14s\n",
      "1.......... Time: 0.0h  2m 36s\n",
      "1.......... Time: 0.0h 12m 23s\n",
      "1.......... Time: 0.0h 17m  7s\n",
      "1.......... Time: 0.0h 12m 44s\n",
      "1.......... Time: 0.0h 14m 38s\n",
      "1.......... Time: 0.0h 10m 23s\n",
      "1.......... Time: 0.0h 17m 11s\n",
      "1.......... Time: 0.0h 54m 10s\n",
      "1.......... Time: 1.0h 20m 56s\n",
      "1.......... Time: 1.0h  9m 51s\n",
      "1.......... Time: 1.0h 17m  4s\n",
      "1.......... Time: 1.0h  4m  2s\n",
      "1.......... Time: 1.0h  9m 13s\n",
      "1.......... Time: 0.0h 59m  8s\n",
      "CPU times: user 17h 42min 53s, sys: 1d 15h 12min 48s, total: 2d 8h 55min 42s\n",
      "Wall time: 10h 11min 25s\n"
     ]
    }
   ],
   "source": [
    "%%time\n",
    "\n",
    "lambdas = np.concatenate((np.arange(.3,1,.1), np.arange(1,11)))\n",
    "alphas = np.array([.25, .5, .75, 1])\n",
    "\n",
    "cvresults = sparseRRR.elastic_rrr_cv(X, Y, rank=2, reps=1, folds=10, alphas=alphas, lambdas=lambdas)\n",
    "\n",
    "alphas = np.array([1])\n",
    "lambdas = lambdas = np.concatenate((np.arange(.3,1,.1), np.arange(1,11)))\n",
    "ranks = np.arange(1, 17)\n",
    "\n",
    "cvresults_rank = {}\n",
    "for r in ranks:\n",
    "    cvresults_rank[r] = sparseRRR.elastic_rrr_cv(X, Y, rank=r, reps=1, folds=10, alphas=alphas, lambdas=lambdas)\n",
    "    \n",
    "pickle.dump([cvresults, cvresults_rank], open('pickles/cvresults-gouwens2020.pickle', 'wb'))"
   ]
  },
  {
   "cell_type": "markdown",
   "metadata": {},
   "source": [
    "## Preprocessing variants"
   ]
  },
  {
   "cell_type": "code",
   "execution_count": 3,
   "metadata": {},
   "outputs": [],
   "source": [
    "import rnaseqTools\n",
    "\n",
    "def cv_preprocessing_variants(data, filename, lambdas=[1,2,3], alpha=.5, reps=1, folds=10, n_genes=1000):\n",
    "    X,Y = preprocess(data)\n",
    "\n",
    "    alphas = np.array([alpha])\n",
    "    cv1 = sparseRRR.elastic_rrr_cv(X, Y, rank=2, reps=reps, \n",
    "                                   folds=folds, alphas=alphas, lambdas=lambdas)\n",
    "\n",
    "    X = data['counts'][:,data['mostVariableGenes']] / np.sum(data['counts'], axis=1) * 1e+6\n",
    "    X = np.array(X)\n",
    "    X = np.log2(X + 1)\n",
    "    X = X - np.mean(X, axis=0)\n",
    "    cv2 = sparseRRR.elastic_rrr_cv(X, Y, rank=2, reps=reps,\n",
    "                                   folds=folds, alphas=alphas, lambdas=lambdas)\n",
    "\n",
    "    X = data['counts'] / np.sum(data['counts'], axis=1) * 1e+6\n",
    "    X = np.array(X)\n",
    "    X = np.log2(X + 1)\n",
    "    ind = np.sum(X, axis=0) > 0\n",
    "    X = X - np.mean(X, axis=0)\n",
    "    cv4 = sparseRRR.elastic_rrr_cv(X, Y, rank=2, reps=reps,\n",
    "                                   folds=folds, alphas=alphas, lambdas=lambdas)\n",
    "\n",
    "    X = X[:, ind]\n",
    "    X = X / np.std(X, axis=0)\n",
    "    cv3 = sparseRRR.elastic_rrr_cv(X, Y, rank=2, reps=reps,\n",
    "                                   folds=folds, alphas=alphas, lambdas=lambdas)\n",
    "    \n",
    "    \n",
    "    def cv_preprocess(Xtrain, Xtest, n_genes=n_genes):\n",
    "        mostVariableGenes = rnaseqTools.geneSelection(Xtrain, n=n_genes, threshold=32, plot=False, verbose=0)\n",
    "\n",
    "        X = Xtrain[:,mostVariableGenes] / np.sum(Xtrain, axis=1, keepdims=True) * 1e+6\n",
    "        X = np.array(X)\n",
    "        X = np.log2(X + 1)\n",
    "        ind = np.sum(X, axis=0) > 0\n",
    "        X = X[:, ind]\n",
    "        mu = np.mean(X, axis=0)\n",
    "        std = np.std(X, axis=0)\n",
    "        X = (X - mu) / std\n",
    "    \n",
    "        Xt = Xtest[:,mostVariableGenes] / np.sum(Xtest, axis=1, keepdims=True) * 1e+6\n",
    "        Xt = np.array(Xt)\n",
    "        Xt = np.log2(Xt + 1)\n",
    "        Xt = Xt[:, ind]\n",
    "        Xt = (Xt - mu) / std\n",
    "    \n",
    "        return(X, Xt) \n",
    "    \n",
    "    X = np.array(data['counts'].todense())\n",
    "    cv5 = sparseRRR.elastic_rrr_cv(X, Y, rank=2, reps=reps,     \n",
    "                                   folds=folds, alphas=alphas, lambdas=lambdas,\n",
    "                                   preprocess = cv_preprocess)\n",
    "\n",
    "    pickle.dump([cv1, cv2, cv3, cv4, cv5], open(filename, 'wb'))"
   ]
  },
  {
   "cell_type": "code",
   "execution_count": 4,
   "metadata": {},
   "outputs": [
    {
     "name": "stdout",
     "output_type": "stream",
     "text": [
      "1.......... Time: 0.0h  0m 39s\n",
      "1.......... Time: 0.0h  3m 32s\n",
      "1.......... Time: 0.0h 35m  7s\n",
      "1.......... Time: 0.0h 18m 19s\n",
      "1.......... Time: 0.0h  1m 28s\n"
     ]
    }
   ],
   "source": [
    "data = pickle.load(open('data/scala2020.pickle', 'rb'))\n",
    "lambdas = np.concatenate((np.arange(.1,1,.1), np.arange(1,11)))\n",
    "cv_preprocessing_variants(data, 'pickles/cvresults-scala2020-variants.pickle', \n",
    "                          lambdas=lambdas, alpha=1, reps=1, folds=10)"
   ]
  },
  {
   "cell_type": "code",
   "execution_count": 5,
   "metadata": {},
   "outputs": [
    {
     "name": "stdout",
     "output_type": "stream",
     "text": [
      "1.......... 2.......... 3.......... 4.......... 5.......... 6.......... 7.......... 8.......... 9.......... 10.......... Time: 0.0h  5m 23s\n",
      "1.......... 2.......... 3.......... 4.......... 5.......... 6.......... 7.......... 8.......... 9.......... 10.......... Time: 0.0h 18m 25s\n",
      "1.......... 2.......... 3.......... 4.......... 5.......... 6.......... 7.......... 8.......... 9.......... 10.......... Time: 0.0h 59m 55s\n",
      "1.......... 2.......... 3.......... 4.......... 5.......... 6.......... 7.......... 8.......... 9.......... 10.......... Time: 0.0h 40m 58s\n",
      "1.......... 2.......... 3.......... 4.......... 5.......... 6.......... 7.......... 8.......... 9.......... 10.......... Time: 0.0h  2m 28s\n"
     ]
    }
   ],
   "source": [
    "data = pickle.load(open('data/scala2019.pickle', 'rb'))\n",
    "lambdas = np.concatenate([np.arange(.1,3,.1), np.arange(3,11)])\n",
    "cv_preprocessing_variants(data, 'pickles/cvresults-scala2019-variants.pickle', \n",
    "                          lambdas=lambdas, alpha=.5, reps=10, folds=10)"
   ]
  },
  {
   "cell_type": "code",
   "execution_count": 4,
   "metadata": {},
   "outputs": [
    {
     "name": "stdout",
     "output_type": "stream",
     "text": [
      "1........... 2........... 3........... 4........... 5........... 6........... 7........... 8........... 9........... 10........... Time: 0.0h 10m 34s\n",
      "1........... 2........... 3........... 4........... 5........... 6........... 7........... 8........... 9........... 10........... Time: 0.0h 20m 49s\n",
      "1........... 2........... 3........... 4........... 5........... 6........... 7........... 8........... 9........... 10........... Time: 0.0h 45m 17s\n",
      "1........... 2........... 3........... 4........... 5........... 6........... 7........... 8........... 9........... 10........... Time: 0.0h 34m 56s\n",
      "1........... 2........... 3........... 4........... 5........... 6........... 7........... 8........... 9........... 10........... Time: 0.0h  7m  4s\n"
     ]
    }
   ],
   "source": [
    "data = pickle.load(open('data/cadwell2016.pickle', 'rb'))\n",
    "lambdas = np.concatenate([np.arange(.1,3,.1), np.arange(3,11)])\n",
    "cv_preprocessing_variants(data, 'pickles/cvresults-cadwell2016-variants.pickle', \n",
    "                          lambdas=lambdas, alpha=.5, reps=10, folds=11, n_genes=3000)"
   ]
  },
  {
   "cell_type": "markdown",
   "metadata": {},
   "source": [
    "## Witten and Suo comparisons"
   ]
  },
  {
   "cell_type": "code",
   "execution_count": 3,
   "metadata": {},
   "outputs": [],
   "source": [
    "import spls_scca"
   ]
  },
  {
   "cell_type": "code",
   "execution_count": 4,
   "metadata": {},
   "outputs": [
    {
     "name": "stdout",
     "output_type": "stream",
     "text": [
      ". done\n",
      "CPU times: user 20.7 s, sys: 1min 19s, total: 1min 39s\n",
      "Wall time: 2.57 s\n",
      ". done\n",
      "CPU times: user 2h 50min 53s, sys: 8h 2min 37s, total: 10h 53min 30s\n",
      "Wall time: 16min 23s\n"
     ]
    }
   ],
   "source": [
    "data = pickle.load(open('data/scala2020.pickle', 'rb'))\n",
    "X,Y = preprocess(data)\n",
    "\n",
    "lx_scan = np.arange(500, 2000, 100)\n",
    "%time corr_witten, nonz_witten = spls_scca.witten_cv(X, Y, lx_scan, ncomps=2, reps=1)\n",
    "\n",
    "lx_scan = np.arange(1,15)\n",
    "%time corr_suo, nonz_suo = spls_scca.suo_cv(X, Y, lx_scan, reps=1)\n",
    "\n",
    "#pickle.dump([corr_witten, nonz_witten, corr_suo, nonz_suo], \n",
    "#            open('pickles/cvresults-scala2020-wittensuo.pickle', 'wb'))"
   ]
  },
  {
   "cell_type": "code",
   "execution_count": 4,
   "metadata": {},
   "outputs": [
    {
     "name": "stdout",
     "output_type": "stream",
     "text": [
      ".......... done\n",
      "CPU times: user 34.7 s, sys: 55.8 s, total: 1min 30s\n",
      "Wall time: 11.9 s\n",
      ".......... done\n",
      "CPU times: user 1h 58min 31s, sys: 2h 46min 37s, total: 4h 45min 8s\n",
      "Wall time: 36min 7s\n"
     ]
    }
   ],
   "source": [
    "data = pickle.load(open('data/scala2019.pickle', 'rb'))\n",
    "X,Y = preprocess(data)\n",
    "\n",
    "lx_scan = np.arange(20, 75, 5)\n",
    "%time corr_witten, nonz_witten = spls_scca.witten_cv(X, Y, lx_scan, ncomps=2, reps=10)\n",
    "\n",
    "lx_scan = np.concatenate((np.arange(.1,1,.1), np.arange(1, 5, .5)))\n",
    "%time corr_suo, nonz_suo = spls_scca.suo_cv(X, Y, lx_scan, reps=10)\n",
    "\n",
    "pickle.dump([corr_witten, nonz_witten, corr_suo, nonz_suo], \n",
    "            open('pickles/cvresults-scala2019-wittensuo.pickle', 'wb'))"
   ]
  },
  {
   "cell_type": "code",
   "execution_count": 5,
   "metadata": {},
   "outputs": [
    {
     "name": "stdout",
     "output_type": "stream",
     "text": [
      ".......... done\n",
      "CPU times: user 19.6 s, sys: 28.5 s, total: 48.1 s\n",
      "Wall time: 6.14 s\n",
      ".......... done\n",
      "CPU times: user 2h 8min 35s, sys: 2h 58min 2s, total: 5h 6min 37s\n",
      "Wall time: 38min 45s\n"
     ]
    }
   ],
   "source": [
    "data = pickle.load(open('data/cadwell2016.pickle', 'rb'))\n",
    "X,Y = preprocess(data)\n",
    "\n",
    "lx_scan = np.arange(20, 75, 5)\n",
    "%time corr_witten, nonz_witten = spls_scca.witten_cv(X, Y, lx_scan, ncomps=2, reps=10)\n",
    "\n",
    "lx_scan = np.concatenate((np.arange(.1,1,.1), np.arange(1, 5, .5)))\n",
    "%time corr_suo, nonz_suo = spls_scca.suo_cv(X, Y, lx_scan, reps=10)\n",
    "\n",
    "pickle.dump([corr_witten, nonz_witten, corr_suo, nonz_suo], \n",
    "            open('pickles/cvresults-cadwell2016-wittensuo.pickle', 'wb'))"
   ]
  },
  {
   "cell_type": "code",
   "execution_count": 70,
   "metadata": {},
   "outputs": [
    {
     "name": "stdout",
     "output_type": "stream",
     "text": [
      ". done\n",
      "CPU times: user 2min 42s, sys: 5min 46s, total: 8min 28s\n",
      "Wall time: 12.8 s\n",
      ". done\n",
      "CPU times: user 5h 4min 38s, sys: 12h 33min 3s, total: 17h 37min 42s\n",
      "Wall time: 26min 36s\n"
     ]
    }
   ],
   "source": [
    "data = pickle.load(open('data/gouwens2020.pickle', 'rb'))\n",
    "# Already preprocessed\n",
    "X=data['counts'].toarray().astype('float64')\n",
    "Y=data['ephys']\n",
    "\n",
    "lx_scan = np.arange(5000, 100000, 1000)\n",
    "%time corr_witten, nonz_witten = spls_scca.witten_cv(X, Y, lx_scan, ncomps=2, reps=1)\n",
    "\n",
    "lx_scan = np.arange(1,15)\n",
    "%time corr_suo, nonz_suo = spls_scca.suo_cv(X, Y, lx_scan, reps=1)\n",
    "\n",
    "pickle.dump([corr_witten, nonz_witten, corr_suo, nonz_suo], \n",
    "            open('pickles/cvresults-gouwens2020-wittensuo.pickle', 'wb'))"
   ]
  },
  {
   "cell_type": "markdown",
   "metadata": {},
   "source": [
    "# Sanity check"
   ]
  },
  {
   "cell_type": "code",
   "execution_count": 68,
   "metadata": {},
   "outputs": [
    {
     "name": "stdout",
     "output_type": "stream",
     "text": [
      ".1st component: \n",
      "corr coeff:  0.8559262858333232\n",
      "# genes selected:  49\n",
      "reg param=10000 , genes selected:  ['Adarb2' 'Prox1' 'Nxph1' 'Igf1' 'Ptprm' 'Synpr' 'Cacna2d1' 'Cacna2d3'\n",
      " 'Fam135b' 'Tmem44' 'Tmem132c' 'Sorcs3' 'Cpne7' 'Kctd8' 'Kit' 'Kcns3'\n",
      " 'Adcy2' 'Sox5' 'Itpr1' 'Galnt14' 'Penk' 'Pde4b' 'Pvalb' 'Coro6' 'Gabrd'\n",
      " 'Crtac1' 'Fxyd6' 'Sorcs1' 'Iqgap2' 'Col19a1' 'Nek7' 'Rapgef5' 'Rgs8'\n",
      " 'Eya4' 'Cntnap4' 'Vip' 'Kcnt2' 'Slit2' 'Lingo2' 'Man1c1' '1700019L22Rik'\n",
      " 'Tmem132d' 'Egfem1' 'Plch2' 'Myo1e' 'Esrrg' 'Runx2' 'Mitf' 'Epb4.1']\n",
      "1st component: \n",
      "corr coeff:  0.8380994433948786\n",
      "# genes selected:  31\n",
      "reg param=11000 , genes selected:  ['Adarb2' 'Prox1' 'Nxph1' 'Igf1' 'Ptprm' 'Synpr' 'Cacna2d3' 'Fam135b'\n",
      " 'Tmem44' 'Tmem132c' 'Sorcs3' 'Cpne7' 'Kit' 'Adcy2' 'Galnt14' 'Pvalb'\n",
      " 'Coro6' 'Gabrd' 'Fxyd6' 'Sorcs1' 'Iqgap2' 'Nek7' 'Rapgef5' 'Eya4' 'Vip'\n",
      " 'Kcnt2' 'Slit2' 'Lingo2' 'Tmem132d' 'Egfem1' 'Runx2']\n",
      "1st component: \n",
      "corr coeff:  0.8124905970369488\n",
      "# genes selected:  20\n",
      "reg param=12000 , genes selected:  ['Adarb2' 'Prox1' 'Nxph1' 'Igf1' 'Synpr' 'Cacna2d3' 'Fam135b' 'Tmem44'\n",
      " 'Sorcs3' 'Cpne7' 'Kit' 'Pvalb' 'Fxyd6' 'Sorcs1' 'Iqgap2' 'Rapgef5' 'Eya4'\n",
      " 'Vip' 'Slit2' 'Egfem1']\n",
      "1st component: \n",
      "corr coeff:  0.7817486989405141\n",
      "# genes selected:  12\n",
      "reg param=13000 , genes selected:  ['Adarb2' 'Nxph1' 'Igf1' 'Synpr' 'Sorcs3' 'Cpne7' 'Kit' 'Fxyd6' 'Sorcs1'\n",
      " 'Vip' 'Slit2' 'Egfem1']\n",
      " done\n",
      "CPU times: user 1min 48s, sys: 8min 10s, total: 9min 58s\n",
      "Wall time: 29.7 s\n"
     ]
    }
   ],
   "source": [
    "corr_witten, nonz_witten, corr_suo, nonz_suo = pickle.load(open('pickles/cvresults-gouwens2020-wittensuo.pickle', 'rb'))\n",
    "data = pickle.load(open('data/gouwens2020.pickle', 'rb'))\n",
    "# Already preprocessed\n",
    "X=data['counts'].toarray().astype('float64')\n",
    "Y=data['ephys']\n",
    "lx_scan = np.arange(10000, 14000, 1000)\n",
    "%time corr_witten, nonz_witten = spls_scca.witten_cv_sanity_check(X, Y, lx_scan, genes=data['genes'],\\\n",
    "                                        ncomps=2, reps=1, keep_comp1_param_cte=False)"
   ]
  },
  {
   "cell_type": "code",
   "execution_count": 70,
   "metadata": {},
   "outputs": [],
   "source": [
    "# If you'd like to do witten again only\n",
    "\n",
    "# corr_witten, nonz_witten, corr_suo, nonz_suo = pickle.load(open('pickles/cvresults-scala2020-wittensuo.pickle', 'rb'))\n",
    "# data = pickle.load(open('data/scala2020.pickle', 'rb'))\n",
    "# X,Y = preprocess(data)\n",
    "# lx_scan = np.arange(500, 2000, 100)\n",
    "# %time corr_witten, nonz_witten = spls_scca.witten_cv(X, Y, lx_scan, ncomps=2, reps=1)\n",
    "# pickle.dump([corr_witten, nonz_witten, corr_suo, nonz_suo], \n",
    "#             open('pickles/cvresults-scala2020-wittensuo.pickle', 'wb'))"
   ]
  }
 ],
 "metadata": {
  "kernelspec": {
   "display_name": "Python 3",
   "language": "python",
   "name": "python3"
  },
  "language_info": {
   "codemirror_mode": {
    "name": "ipython",
    "version": 3
   },
   "file_extension": ".py",
   "mimetype": "text/x-python",
   "name": "python",
   "nbconvert_exporter": "python",
   "pygments_lexer": "ipython3",
   "version": "3.7.9"
  }
 },
 "nbformat": 4,
 "nbformat_minor": 2
}
